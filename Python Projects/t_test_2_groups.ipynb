{
 "cells": [
  {
   "cell_type": "code",
   "execution_count": 26,
   "id": "f41d7f09-61a9-4c7b-b9e3-bfe57d37d590",
   "metadata": {},
   "outputs": [],
   "source": [
    "import pandas as pd\n",
    "import seaborn as sns\n",
    "import numpy as np\n",
    "import scipy"
   ]
  },
  {
   "cell_type": "code",
   "execution_count": null,
   "id": "6a0d01c3-a995-4387-92b0-f5255f3a891e",
   "metadata": {},
   "outputs": [],
   "source": [
    "Завдання. Визначити, чи належать споживачі до однієї групи чи вони відрізняються достатньо суттєво для того,\n",
    "щоб до них можна було застосувати різні маркетингові підходи?"
   ]
  },
  {
   "cell_type": "code",
   "execution_count": 3,
   "id": "d1ddf61a-3ef4-4892-8a42-dce4aec2bf16",
   "metadata": {},
   "outputs": [],
   "source": [
    "desktop=pd.read_csv('desktop.csv')\n",
    "laptop=pd.read_csv('laptop.csv')"
   ]
  },
  {
   "cell_type": "code",
   "execution_count": 7,
   "id": "e1e5c996-8ec8-4907-be8d-08678d362563",
   "metadata": {
    "panel-layout": {
     "height": 169.1999969482422,
     "visible": true,
     "width": 100
    }
   },
   "outputs": [
    {
     "data": {
      "text/html": [
       "<div>\n",
       "<style scoped>\n",
       "    .dataframe tbody tr th:only-of-type {\n",
       "        vertical-align: middle;\n",
       "    }\n",
       "\n",
       "    .dataframe tbody tr th {\n",
       "        vertical-align: top;\n",
       "    }\n",
       "\n",
       "    .dataframe thead th {\n",
       "        text-align: right;\n",
       "    }\n",
       "</style>\n",
       "<table border=\"1\" class=\"dataframe\">\n",
       "  <thead>\n",
       "    <tr style=\"text-align: right;\">\n",
       "      <th></th>\n",
       "      <th>userid</th>\n",
       "      <th>spending</th>\n",
       "      <th>age</th>\n",
       "      <th>visits</th>\n",
       "    </tr>\n",
       "  </thead>\n",
       "  <tbody>\n",
       "    <tr>\n",
       "      <th>0</th>\n",
       "      <td>1</td>\n",
       "      <td>1250</td>\n",
       "      <td>31</td>\n",
       "      <td>126</td>\n",
       "    </tr>\n",
       "    <tr>\n",
       "      <th>1</th>\n",
       "      <td>2</td>\n",
       "      <td>900</td>\n",
       "      <td>27</td>\n",
       "      <td>5</td>\n",
       "    </tr>\n",
       "    <tr>\n",
       "      <th>2</th>\n",
       "      <td>3</td>\n",
       "      <td>0</td>\n",
       "      <td>30</td>\n",
       "      <td>459</td>\n",
       "    </tr>\n",
       "    <tr>\n",
       "      <th>3</th>\n",
       "      <td>4</td>\n",
       "      <td>2890</td>\n",
       "      <td>22</td>\n",
       "      <td>18</td>\n",
       "    </tr>\n",
       "    <tr>\n",
       "      <th>4</th>\n",
       "      <td>5</td>\n",
       "      <td>1460</td>\n",
       "      <td>38</td>\n",
       "      <td>20</td>\n",
       "    </tr>\n",
       "  </tbody>\n",
       "</table>\n",
       "</div>"
      ],
      "text/plain": [
       "   userid  spending  age  visits\n",
       "0       1      1250   31     126\n",
       "1       2       900   27       5\n",
       "2       3         0   30     459\n",
       "3       4      2890   22      18\n",
       "4       5      1460   38      20"
      ]
     },
     "execution_count": 7,
     "metadata": {},
     "output_type": "execute_result"
    }
   ],
   "source": [
    "desktop.head()"
   ]
  },
  {
   "cell_type": "code",
   "execution_count": 9,
   "id": "ea983fc2-f1b4-44f3-be70-06e2be6eb81f",
   "metadata": {
    "panel-layout": {
     "height": 169.1999969482422,
     "visible": true,
     "width": 100
    }
   },
   "outputs": [
    {
     "data": {
      "text/html": [
       "<div>\n",
       "<style scoped>\n",
       "    .dataframe tbody tr th:only-of-type {\n",
       "        vertical-align: middle;\n",
       "    }\n",
       "\n",
       "    .dataframe tbody tr th {\n",
       "        vertical-align: top;\n",
       "    }\n",
       "\n",
       "    .dataframe thead th {\n",
       "        text-align: right;\n",
       "    }\n",
       "</style>\n",
       "<table border=\"1\" class=\"dataframe\">\n",
       "  <thead>\n",
       "    <tr style=\"text-align: right;\">\n",
       "      <th></th>\n",
       "      <th>userid</th>\n",
       "      <th>spending</th>\n",
       "      <th>age</th>\n",
       "      <th>visits</th>\n",
       "    </tr>\n",
       "  </thead>\n",
       "  <tbody>\n",
       "    <tr>\n",
       "      <th>0</th>\n",
       "      <td>31</td>\n",
       "      <td>1499</td>\n",
       "      <td>32</td>\n",
       "      <td>12</td>\n",
       "    </tr>\n",
       "    <tr>\n",
       "      <th>1</th>\n",
       "      <td>32</td>\n",
       "      <td>799</td>\n",
       "      <td>23</td>\n",
       "      <td>40</td>\n",
       "    </tr>\n",
       "    <tr>\n",
       "      <th>2</th>\n",
       "      <td>33</td>\n",
       "      <td>1200</td>\n",
       "      <td>45</td>\n",
       "      <td>22</td>\n",
       "    </tr>\n",
       "    <tr>\n",
       "      <th>3</th>\n",
       "      <td>34</td>\n",
       "      <td>0</td>\n",
       "      <td>59</td>\n",
       "      <td>126</td>\n",
       "    </tr>\n",
       "    <tr>\n",
       "      <th>4</th>\n",
       "      <td>35</td>\n",
       "      <td>1350</td>\n",
       "      <td>17</td>\n",
       "      <td>85</td>\n",
       "    </tr>\n",
       "  </tbody>\n",
       "</table>\n",
       "</div>"
      ],
      "text/plain": [
       "   userid  spending  age  visits\n",
       "0      31      1499   32      12\n",
       "1      32       799   23      40\n",
       "2      33      1200   45      22\n",
       "3      34         0   59     126\n",
       "4      35      1350   17      85"
      ]
     },
     "execution_count": 9,
     "metadata": {},
     "output_type": "execute_result"
    }
   ],
   "source": [
    "laptop.head()"
   ]
  },
  {
   "cell_type": "code",
   "execution_count": 16,
   "id": "c098c49a-4e38-4b91-8b72-0bc3968f3817",
   "metadata": {
    "panel-layout": {
     "height": 701,
     "visible": true,
     "width": 100
    }
   },
   "outputs": [
    {
     "data": {
      "image/png": "[encoded data removed]",
      "text/plain": [
       "<Figure size 640x480 with 1 Axes>"
      ]
     },
     "metadata": {},
     "output_type": "display_data"
    }
   ],
   "source": [
    "import matplotlib.pyplot as plt\n",
    "sns.reset_orig()\n",
    "fig1, ax1 = plt.subplots()\n",
    "ax1.set_title('Spending by Desktop and Laptop Subscribers')\n",
    "ax1.boxplot([desktop['spending'].values,laptop['spending'].values])\n",
    "ax1.set_ylabel('Spending ($)')\n",
    "plt.xticks([1,2], ['Desktop Subscribers','Laptop Subscribers'])\n",
    "plt.show()"
   ]
  },
  {
   "cell_type": "code",
   "execution_count": 22,
   "id": "da686eb3-fd1d-403d-ac7f-9a99837610a1",
   "metadata": {
    "panel-layout": {
     "height": 701,
     "visible": true,
     "width": 100
    }
   },
   "outputs": [
    {
     "name": "stdout",
     "output_type": "stream",
     "text": [
      "35.766666666666666\n",
      "38.733333333333334\n",
      "32.0\n",
      "33.0\n",
      "957.5\n",
      "1528.25\n",
      "14.943634839697543\n"
     ]
    }
   ],
   "source": [
    "print(np.mean(desktop['age']))\n",
    "print(np.mean(laptop['age']))\n",
    "print(np.median(desktop['age']))\n",
    "print(np.median(laptop['age']))\n",
    "print(np.quantile(laptop['spending'],.25))\n",
    "print(np.quantile(desktop['spending'],.75))\n",
    "print(np.std(desktop['age']))"
   ]
  },
  {
   "cell_type": "code",
   "execution_count": null,
   "id": "84e11fb2-d622-444f-ae0b-a8a8ec2ef988",
   "metadata": {},
   "outputs": [],
   "source": [
    "візуально по затратам ніби відрізняються, але проведемо т-тест і визначимо п-значення. тим більше інші показники \n",
    "доволі схожі. використаємо показник значимості на рівні 5%"
   ]
  },
  {
   "cell_type": "code",
   "execution_count": 28,
   "id": "f24fb2cb-b1d4-4418-870b-2ca9af3fdce9",
   "metadata": {
    "panel-layout": {
     "height": 728.1375122070312,
     "visible": true,
     "width": 100
    }
   },
   "outputs": [
    {
     "data": {
      "text/plain": [
       "TtestResult(statistic=-2.109853741030508, pvalue=0.03919630411621095, df=58.0)"
      ]
     },
     "execution_count": 28,
     "metadata": {},
     "output_type": "execute_result"
    }
   ],
   "source": [
    "scipy.stats.ttest_ind(desktop['spending'],laptop['spending'])"
   ]
  },
  {
   "cell_type": "code",
   "execution_count": null,
   "id": "8db93c57-e7f5-4488-9365-c2a102701780",
   "metadata": {},
   "outputs": [],
   "source": [
    "п-значення становить 3,9%, що менше визначених нами 5%, тому відкидаємо гіпотезу, що споживачі належать до однієї групи.\n",
    "Принаймні для того, щоб застосувати різні маркетингові інструменти для цих 2 груп заснованих на різниці затрат "
   ]
  }
 ],
 "metadata": {
  "kernelspec": {
   "display_name": "anaconda-2024.02-py310",
   "language": "python",
   "name": "conda-env-anaconda-2024.02-py310-py"
  },
  "language_info": {
   "codemirror_mode": {
    "name": "ipython",
    "version": 3
   },
   "file_extension": ".py",
   "mimetype": "text/x-python",
   "name": "python",
   "nbconvert_exporter": "python",
   "pygments_lexer": "ipython3",
   "version": "3.10.14"
  },
  "panel-cell-order": [
   "e1e5c996-8ec8-4907-be8d-08678d362563",
   "ea983fc2-f1b4-44f3-be70-06e2be6eb81f",
   "c098c49a-4e38-4b91-8b72-0bc3968f3817",
   "da686eb3-fd1d-403d-ac7f-9a99837610a1",
   "f24fb2cb-b1d4-4418-870b-2ca9af3fdce9"
  ]
 },
 "nbformat": 4,
 "nbformat_minor": 5
}
