{
 "cells": [
  {
   "cell_type": "code",
   "execution_count": 2,
   "id": "7a96d27c-aade-412d-8791-3d4eabe7f997",
   "metadata": {},
   "outputs": [],
   "source": [
    "import pandas as pd\n",
    "import seaborn as sns\n",
    "import numpy as np\n",
    "import scipy"
   ]
  },
  {
   "cell_type": "markdown",
   "id": "0498d0c5-2b94-429c-b411-02a39264f98d",
   "metadata": {},
   "source": [
    "###Проведемо А/В тестування впровадження фічі "
   ]
  },
  {
   "cell_type": "markdown",
   "id": "9a3fec76-9d48-4b52-896d-4af794fd8eb6",
   "metadata": {},
   "source": [
    "необхідно взяти одноріну групу. \n",
    "беремо цю групу лише тому, що вважаємо її однорідною з точки зору спожицьких звичок, а не тому що вона купувала ноути"
   ]
  },
  {
   "cell_type": "code",
   "execution_count": 5,
   "id": "3e61c19a-602a-40b2-9928-c33abbdcb263",
   "metadata": {},
   "outputs": [],
   "source": [
    "laptop=pd.read_csv('laptop.csv')"
   ]
  },
  {
   "cell_type": "code",
   "execution_count": 9,
   "id": "0500395b-f19e-45f9-a457-a27a5ae7740d",
   "metadata": {},
   "outputs": [
    {
     "data": {
      "text/html": [
       "<div>\n",
       "<style scoped>\n",
       "    .dataframe tbody tr th:only-of-type {\n",
       "        vertical-align: middle;\n",
       "    }\n",
       "\n",
       "    .dataframe tbody tr th {\n",
       "        vertical-align: top;\n",
       "    }\n",
       "\n",
       "    .dataframe thead th {\n",
       "        text-align: right;\n",
       "    }\n",
       "</style>\n",
       "<table border=\"1\" class=\"dataframe\">\n",
       "  <thead>\n",
       "    <tr style=\"text-align: right;\">\n",
       "      <th></th>\n",
       "      <th>userid</th>\n",
       "      <th>spending</th>\n",
       "      <th>age</th>\n",
       "      <th>visits</th>\n",
       "    </tr>\n",
       "  </thead>\n",
       "  <tbody>\n",
       "    <tr>\n",
       "      <th>0</th>\n",
       "      <td>31</td>\n",
       "      <td>1499</td>\n",
       "      <td>32</td>\n",
       "      <td>12</td>\n",
       "    </tr>\n",
       "    <tr>\n",
       "      <th>1</th>\n",
       "      <td>32</td>\n",
       "      <td>799</td>\n",
       "      <td>23</td>\n",
       "      <td>40</td>\n",
       "    </tr>\n",
       "    <tr>\n",
       "      <th>2</th>\n",
       "      <td>33</td>\n",
       "      <td>1200</td>\n",
       "      <td>45</td>\n",
       "      <td>22</td>\n",
       "    </tr>\n",
       "    <tr>\n",
       "      <th>3</th>\n",
       "      <td>34</td>\n",
       "      <td>0</td>\n",
       "      <td>59</td>\n",
       "      <td>126</td>\n",
       "    </tr>\n",
       "    <tr>\n",
       "      <th>4</th>\n",
       "      <td>35</td>\n",
       "      <td>1350</td>\n",
       "      <td>17</td>\n",
       "      <td>85</td>\n",
       "    </tr>\n",
       "  </tbody>\n",
       "</table>\n",
       "</div>"
      ],
      "text/plain": [
       "   userid  spending  age  visits\n",
       "0      31      1499   32      12\n",
       "1      32       799   23      40\n",
       "2      33      1200   45      22\n",
       "3      34         0   59     126\n",
       "4      35      1350   17      85"
      ]
     },
     "execution_count": 9,
     "metadata": {},
     "output_type": "execute_result"
    }
   ],
   "source": [
    "laptop.head()"
   ]
  },
  {
   "cell_type": "markdown",
   "id": "ef5a8e89-d8a4-4709-b0ae-0ed6ad291dcc",
   "metadata": {},
   "source": [
    "розділимо групу на 2 підгрупи випадковим чином"
   ]
  },
  {
   "cell_type": "code",
   "execution_count": 13,
   "id": "9438dbbc-40f2-43a9-b915-62f7ecdff4d6",
   "metadata": {},
   "outputs": [],
   "source": [
    "np.random.seed(18811015)\n",
    "laptop.loc[:,'groupassignment']=1*(np.random.random(len(laptop.index))>0.5)\n",
    "groupA=laptop.loc[laptop['groupassignment']==0,:].copy()\n",
    "groupB=laptop.loc[laptop['groupassignment']==1,:].copy()"
   ]
  },
  {
   "cell_type": "markdown",
   "id": "c6bfb563-180c-4dfa-8725-b4ddf162e21c",
   "metadata": {},
   "source": [
    "візьмемо отримані через деякий час результати тесту"
   ]
  },
  {
   "cell_type": "code",
   "execution_count": 21,
   "id": "bcae2c40-8951-45ff-a796-c11e99e02029",
   "metadata": {},
   "outputs": [],
   "source": [
    "emailresults=pd.read_csv('emailresults2.csv')"
   ]
  },
  {
   "cell_type": "code",
   "execution_count": 25,
   "id": "febb0b01-fd07-4b1b-a920-a0abbeef9b20",
   "metadata": {},
   "outputs": [
    {
     "data": {
      "text/html": [
       "<div>\n",
       "<style scoped>\n",
       "    .dataframe tbody tr th:only-of-type {\n",
       "        vertical-align: middle;\n",
       "    }\n",
       "\n",
       "    .dataframe tbody tr th {\n",
       "        vertical-align: top;\n",
       "    }\n",
       "\n",
       "    .dataframe thead th {\n",
       "        text-align: right;\n",
       "    }\n",
       "</style>\n",
       "<table border=\"1\" class=\"dataframe\">\n",
       "  <thead>\n",
       "    <tr style=\"text-align: right;\">\n",
       "      <th></th>\n",
       "      <th>userid</th>\n",
       "      <th>revenue</th>\n",
       "    </tr>\n",
       "  </thead>\n",
       "  <tbody>\n",
       "    <tr>\n",
       "      <th>0</th>\n",
       "      <td>31</td>\n",
       "      <td>100</td>\n",
       "    </tr>\n",
       "    <tr>\n",
       "      <th>1</th>\n",
       "      <td>32</td>\n",
       "      <td>0</td>\n",
       "    </tr>\n",
       "    <tr>\n",
       "      <th>2</th>\n",
       "      <td>33</td>\n",
       "      <td>50</td>\n",
       "    </tr>\n",
       "    <tr>\n",
       "      <th>3</th>\n",
       "      <td>34</td>\n",
       "      <td>800</td>\n",
       "    </tr>\n",
       "    <tr>\n",
       "      <th>4</th>\n",
       "      <td>35</td>\n",
       "      <td>75</td>\n",
       "    </tr>\n",
       "  </tbody>\n",
       "</table>\n",
       "</div>"
      ],
      "text/plain": [
       "   userid  revenue\n",
       "0      31      100\n",
       "1      32        0\n",
       "2      33       50\n",
       "3      34      800\n",
       "4      35       75"
      ]
     },
     "execution_count": 25,
     "metadata": {},
     "output_type": "execute_result"
    }
   ],
   "source": [
    "emailresults.head()"
   ]
  },
  {
   "cell_type": "markdown",
   "id": "13a06534-1b00-4149-a67a-e2e471901f77",
   "metadata": {},
   "source": [
    "доэднуєднуємо результати тесту до початкових підгіруп"
   ]
  },
  {
   "cell_type": "code",
   "execution_count": 29,
   "id": "404c9dc9-5b45-4e62-87e8-41c08fae1091",
   "metadata": {},
   "outputs": [],
   "source": [
    "groupA_withrevenue=groupA.merge(emailresults,on='userid')\n",
    "groupB_withrevenue=groupB.merge(emailresults,on='userid')"
   ]
  },
  {
   "cell_type": "markdown",
   "id": "e4e15041-9cf4-443e-8304-c138257b7e9e",
   "metadata": {},
   "source": [
    "проведемо наше т-тестування і отримаємо п-значення"
   ]
  },
  {
   "cell_type": "code",
   "execution_count": 33,
   "id": "88f883bd-e5a3-43b6-9482-19062423f4ed",
   "metadata": {},
   "outputs": [
    {
     "data": {
      "text/plain": [
       "TtestResult(statistic=-2.381320497676198, pvalue=0.024288828555138562, df=28.0)"
      ]
     },
     "execution_count": 33,
     "metadata": {},
     "output_type": "execute_result"
    }
   ],
   "source": [
    "scipy.stats.ttest_ind(groupA_withrevenue['revenue'],groupB_withrevenue['revenue'])"
   ]
  },
  {
   "cell_type": "markdown",
   "id": "5b0f8812-7e0b-4516-8c36-b308a9024648",
   "metadata": {},
   "source": [
    "п-значення менше порогового 0,05, тому вважаємо результат статистично значимим (відкидаємо нульову гіпотезу про те, що це \n",
    "групи з однієї вибірки).\n",
    "Резульат - фічу можна впроваджувати і/або продовжувати подальше тестування вже з новою фічею"
   ]
  }
 ],
 "metadata": {
  "kernelspec": {
   "display_name": "anaconda-2024.02-py310",
   "language": "python",
   "name": "conda-env-anaconda-2024.02-py310-py"
  },
  "language_info": {
   "codemirror_mode": {
    "name": "ipython",
    "version": 3
   },
   "file_extension": ".py",
   "mimetype": "text/x-python",
   "name": "python",
   "nbconvert_exporter": "python",
   "pygments_lexer": "ipython3",
   "version": "3.10.14"
  }
 },
 "nbformat": 4,
 "nbformat_minor": 5
}
