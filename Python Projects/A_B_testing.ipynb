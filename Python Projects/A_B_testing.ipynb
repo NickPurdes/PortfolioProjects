{
 "cells": [
  {
   "cell_type": "code",
   "execution_count": 7,
   "id": "7a96d27c-aade-412d-8791-3d4eabe7f997",
   "metadata": {},
   "outputs": [],
   "source": [
    "import pandas as pd\n",
    "import seaborn as sns\n",
    "import numpy as np\n",
    "import scipy"
   ]
  },
  {
   "cell_type": "markdown",
   "id": "0498d0c5-2b94-429c-b411-02a39264f98d",
   "metadata": {},
   "source": [
    "###Проведемо А/В тестування впровадження фічі "
   ]
  },
  {
   "cell_type": "markdown",
   "id": "9a3fec76-9d48-4b52-896d-4af794fd8eb6",
   "metadata": {},
   "source": [
    "необхідно взяти одноріну групу. \n",
    "беремо цю групу лише тому, що вважаємо її однорідною з точки зору спожицьких звичок, а не тому що вона купувала ноути"
   ]
  },
  {
   "cell_type": "code",
   "execution_count": 10,
   "id": "3e61c19a-602a-40b2-9928-c33abbdcb263",
   "metadata": {},
   "outputs": [],
   "source": [
    "laptop=pd.read_csv('laptop.csv')"
   ]
  },
  {
   "cell_type": "code",
   "execution_count": 13,
   "id": "0500395b-f19e-45f9-a457-a27a5ae7740d",
   "metadata": {},
   "outputs": [
    {
     "data": {
      "text/html": [
       "<div>\n",
       "<style scoped>\n",
       "    .dataframe tbody tr th:only-of-type {\n",
       "        vertical-align: middle;\n",
       "    }\n",
       "\n",
       "    .dataframe tbody tr th {\n",
       "        vertical-align: top;\n",
       "    }\n",
       "\n",
       "    .dataframe thead th {\n",
       "        text-align: right;\n",
       "    }\n",
       "</style>\n",
       "<table border=\"1\" class=\"dataframe\">\n",
       "  <thead>\n",
       "    <tr style=\"text-align: right;\">\n",
       "      <th></th>\n",
       "      <th>userid</th>\n",
       "      <th>spending</th>\n",
       "      <th>age</th>\n",
       "      <th>visits</th>\n",
       "    </tr>\n",
       "  </thead>\n",
       "  <tbody>\n",
       "    <tr>\n",
       "      <th>0</th>\n",
       "      <td>31</td>\n",
       "      <td>1499</td>\n",
       "      <td>32</td>\n",
       "      <td>12</td>\n",
       "    </tr>\n",
       "    <tr>\n",
       "      <th>1</th>\n",
       "      <td>32</td>\n",
       "      <td>799</td>\n",
       "      <td>23</td>\n",
       "      <td>40</td>\n",
       "    </tr>\n",
       "    <tr>\n",
       "      <th>2</th>\n",
       "      <td>33</td>\n",
       "      <td>1200</td>\n",
       "      <td>45</td>\n",
       "      <td>22</td>\n",
       "    </tr>\n",
       "    <tr>\n",
       "      <th>3</th>\n",
       "      <td>34</td>\n",
       "      <td>0</td>\n",
       "      <td>59</td>\n",
       "      <td>126</td>\n",
       "    </tr>\n",
       "    <tr>\n",
       "      <th>4</th>\n",
       "      <td>35</td>\n",
       "      <td>1350</td>\n",
       "      <td>17</td>\n",
       "      <td>85</td>\n",
       "    </tr>\n",
       "  </tbody>\n",
       "</table>\n",
       "</div>"
      ],
      "text/plain": [
       "   userid  spending  age  visits\n",
       "0      31      1499   32      12\n",
       "1      32       799   23      40\n",
       "2      33      1200   45      22\n",
       "3      34         0   59     126\n",
       "4      35      1350   17      85"
      ]
     },
     "execution_count": 13,
     "metadata": {},
     "output_type": "execute_result"
    }
   ],
   "source": [
    "laptop.head()"
   ]
  },
  {
   "cell_type": "markdown",
   "id": "ef5a8e89-d8a4-4709-b0ae-0ed6ad291dcc",
   "metadata": {},
   "source": [
    "розділимо групу на 2 однакові підгрупи випадковим чином"
   ]
  },
  {
   "cell_type": "code",
   "execution_count": 116,
   "id": "9438dbbc-40f2-43a9-b915-62f7ecdff4d6",
   "metadata": {},
   "outputs": [
    {
     "name": "stdout",
     "output_type": "stream",
     "text": [
      "   userid  spending  age  visits  groupassignment\n",
      "0      31      1499   32      12                0\n",
      "2      33      1200   45      22                0\n",
      "4      35      1350   17      85                0\n",
      "5      36      2780   25       6                0\n",
      "7      38         0   79     450                0\n"
     ]
    },
    {
     "data": {
      "text/plain": [
       "15"
      ]
     },
     "execution_count": 116,
     "metadata": {},
     "output_type": "execute_result"
    }
   ],
   "source": [
    "np.random.seed(18811015)\n",
    "laptop.loc[:,'groupassignment']=1*(np.random.random(len(laptop.index))>0.5)\n",
    "groupA=laptop.loc[laptop['groupassignment']==0,:].copy()\n",
    "groupB=laptop.loc[laptop['groupassignment']==1,:].copy()\n",
    "print(groupA.head())\n",
    "groupA.shape[0]"
   ]
  },
  {
   "cell_type": "code",
   "execution_count": 118,
   "id": "ae55c003-c993-4962-b0ca-61333051f97c",
   "metadata": {},
   "outputs": [
    {
     "name": "stdout",
     "output_type": "stream",
     "text": [
      "    userid  spending  age  visits  groupassignment\n",
      "1       32       799   23      40                1\n",
      "3       34         0   59     126                1\n",
      "6       37      3400   65     428                1\n",
      "8       39      1800   25     180                1\n",
      "10      41       999   35     835                1\n"
     ]
    },
    {
     "data": {
      "text/plain": [
       "15"
      ]
     },
     "execution_count": 118,
     "metadata": {},
     "output_type": "execute_result"
    }
   ],
   "source": [
    "print(groupB.head()) \n",
    "groupB.shape[0]"
   ]
  },
  {
   "cell_type": "markdown",
   "id": "674b9a46-d6d2-4a4c-aa2a-dbd82a6a8454",
   "metadata": {},
   "source": [
    "маємо 2 групи по 15 осіб у кожній"
   ]
  },
  {
   "cell_type": "markdown",
   "id": "c6bfb563-180c-4dfa-8725-b4ddf162e21c",
   "metadata": {},
   "source": [
    "проведемо тестування, у якому групі В буде відправлено емейл з впровадженою фічею, а групі А без фічі\n",
    "візьмемо отримані через деякий час результати тесту"
   ]
  },
  {
   "cell_type": "code",
   "execution_count": 19,
   "id": "bcae2c40-8951-45ff-a796-c11e99e02029",
   "metadata": {},
   "outputs": [],
   "source": [
    "emailresults=pd.read_csv('emailresults2.csv')"
   ]
  },
  {
   "cell_type": "code",
   "execution_count": 62,
   "id": "febb0b01-fd07-4b1b-a920-a0abbeef9b20",
   "metadata": {},
   "outputs": [
    {
     "data": {
      "text/html": [
       "<div>\n",
       "<style scoped>\n",
       "    .dataframe tbody tr th:only-of-type {\n",
       "        vertical-align: middle;\n",
       "    }\n",
       "\n",
       "    .dataframe tbody tr th {\n",
       "        vertical-align: top;\n",
       "    }\n",
       "\n",
       "    .dataframe thead th {\n",
       "        text-align: right;\n",
       "    }\n",
       "</style>\n",
       "<table border=\"1\" class=\"dataframe\">\n",
       "  <thead>\n",
       "    <tr style=\"text-align: right;\">\n",
       "      <th></th>\n",
       "      <th>userid</th>\n",
       "      <th>revenue</th>\n",
       "    </tr>\n",
       "  </thead>\n",
       "  <tbody>\n",
       "    <tr>\n",
       "      <th>0</th>\n",
       "      <td>31</td>\n",
       "      <td>100</td>\n",
       "    </tr>\n",
       "    <tr>\n",
       "      <th>1</th>\n",
       "      <td>32</td>\n",
       "      <td>0</td>\n",
       "    </tr>\n",
       "    <tr>\n",
       "      <th>2</th>\n",
       "      <td>33</td>\n",
       "      <td>50</td>\n",
       "    </tr>\n",
       "    <tr>\n",
       "      <th>3</th>\n",
       "      <td>34</td>\n",
       "      <td>800</td>\n",
       "    </tr>\n",
       "    <tr>\n",
       "      <th>4</th>\n",
       "      <td>35</td>\n",
       "      <td>75</td>\n",
       "    </tr>\n",
       "  </tbody>\n",
       "</table>\n",
       "</div>"
      ],
      "text/plain": [
       "   userid  revenue\n",
       "0      31      100\n",
       "1      32        0\n",
       "2      33       50\n",
       "3      34      800\n",
       "4      35       75"
      ]
     },
     "execution_count": 62,
     "metadata": {},
     "output_type": "execute_result"
    }
   ],
   "source": [
    "emailresults.head()"
   ]
  },
  {
   "cell_type": "markdown",
   "id": "13a06534-1b00-4149-a67a-e2e471901f77",
   "metadata": {},
   "source": [
    "доєднаємо результати тесту до початкових підгруп"
   ]
  },
  {
   "cell_type": "code",
   "execution_count": 24,
   "id": "404c9dc9-5b45-4e62-87e8-41c08fae1091",
   "metadata": {},
   "outputs": [],
   "source": [
    "groupA_withrevenue=groupA.merge(emailresults,on='userid')\n",
    "groupB_withrevenue=groupB.merge(emailresults,on='userid')"
   ]
  },
  {
   "cell_type": "markdown",
   "id": "e4e15041-9cf4-443e-8304-c138257b7e9e",
   "metadata": {},
   "source": [
    "проведемо наше т-тестування і отримаємо п-значення"
   ]
  },
  {
   "cell_type": "code",
   "execution_count": 27,
   "id": "88f883bd-e5a3-43b6-9482-19062423f4ed",
   "metadata": {},
   "outputs": [
    {
     "data": {
      "text/plain": [
       "TtestResult(statistic=-2.381320497676198, pvalue=0.024288828555138562, df=28.0)"
      ]
     },
     "execution_count": 27,
     "metadata": {},
     "output_type": "execute_result"
    }
   ],
   "source": [
    "scipy.stats.ttest_ind(groupA_withrevenue['revenue'],groupB_withrevenue['revenue'])"
   ]
  },
  {
   "cell_type": "markdown",
   "id": "5b0f8812-7e0b-4516-8c36-b308a9024648",
   "metadata": {},
   "source": [
    "п-значення менше порогового 0,05, тому вважаємо результат статистично значимим (відкидаємо нульову гіпотезу про те, що це \n",
    "групи з однієї вибірки).\n",
    "Резульат - фічу можна впроваджувати і/або продовжувати подальше тестування вже з новою фічею"
   ]
  },
  {
   "cell_type": "markdown",
   "id": "60bf6fbb-ec5c-4e1c-bcae-e7bab03f1d73",
   "metadata": {},
   "source": [
    "#### Визначимо ефект і ймовірність успішності нашого тесту"
   ]
  },
  {
   "cell_type": "code",
   "execution_count": 78,
   "id": "e67e35b1-4bd3-422b-a0d5-25fe0e8e482a",
   "metadata": {},
   "outputs": [
    {
     "name": "stdout",
     "output_type": "stream",
     "text": [
      "260.3333333333333\n"
     ]
    }
   ],
   "source": [
    "effect = np.mean(groupA_withrevenue['revenue'])-np.mean(groupB_withrevenue['revenue'])\n",
    "print(np.abs(effect))"
   ]
  },
  {
   "cell_type": "markdown",
   "id": "dd69ab5b-bea9-4587-b2c2-511b6dec5cad",
   "metadata": {},
   "source": [
    "визначимо розмір еффекту як коефіцієнт Коена д"
   ]
  },
  {
   "cell_type": "code",
   "execution_count": 92,
   "id": "53dc1258-b35b-4f81-bc4e-6c8ae1615090",
   "metadata": {},
   "outputs": [
    {
     "name": "stdout",
     "output_type": "stream",
     "text": [
      "0.8207707199745888\n"
     ]
    }
   ],
   "source": [
    "effect_size = np.abs(effect)/np.std(emailresults['revenue']) \n",
    "print(effect_size)"
   ]
  },
  {
   "cell_type": "markdown",
   "id": "adaf2e13-ef26-4605-8e57-aeb5f6f60a8b",
   "metadata": {},
   "source": [
    "ефект 0,82 по відношенню до стандартоного відхилення вважається значним"
   ]
  },
  {
   "cell_type": "code",
   "execution_count": 120,
   "id": "067b09a2-c210-430a-8c28-3b38d71c1cf0",
   "metadata": {},
   "outputs": [
    {
     "name": "stdout",
     "output_type": "stream",
     "text": [
      "0.5833058537818713\n"
     ]
    }
   ],
   "source": [
    "from statsmodels.stats.power import TTestIndPower\n",
    "analysis = TTestIndPower()\n",
    "alpha = 0.05\n",
    "power = analysis.solve_power(effect_size=effect_size, nobs1=groupB.shape[0], alpha=alpha)\n",
    "print(power)"
   ]
  },
  {
   "cell_type": "markdown",
   "id": "ee883ad3-9ea2-4f41-ac19-55db44457450",
   "metadata": {},
   "source": [
    " маємо невисоку ймовірність розрахунку правдивого ефекту 58,3%, не зважаючи на його значну величину. \n",
    " це зумовлено надто малими розмірами вибіркових груп к-стю 15 чоловік.\n",
    " нижче покажемо, що збільшивши вибірки хоча б до 30, матимемо значно кращий результат"
   ]
  },
  {
   "cell_type": "code",
   "execution_count": 122,
   "id": "3015e601-7dc8-46ba-9107-93b7166571ef",
   "metadata": {},
   "outputs": [
    {
     "name": "stdout",
     "output_type": "stream",
     "text": [
      "0.878154655326913\n"
     ]
    }
   ],
   "source": [
    "power = analysis.solve_power(effect_size=effect_size, nobs1=30, alpha=alpha)\n",
    "print(power)"
   ]
  },
  {
   "cell_type": "markdown",
   "id": "8302d6f4-1024-4dd2-b624-2448e7be69b9",
   "metadata": {},
   "source": [
    "87% можна вважати позитивним результатом.\n",
    "зробимо зворотній розрахунок, щоб порахувати розмір вибірки, достатній для отримання позитивного тесту з ймовірністю на допустимому рівні 80%"
   ]
  },
  {
   "cell_type": "code",
   "execution_count": 128,
   "id": "4ce5542b-9e4e-4ae7-8b1f-995ece820866",
   "metadata": {},
   "outputs": [
    {
     "name": "stdout",
     "output_type": "stream",
     "text": [
      "24.300763212526185\n"
     ]
    }
   ],
   "source": [
    "alpha = 0.05\n",
    "power = 0.8\n",
    "observations = analysis.solve_power(effect_size=effect_size, power=power, alpha=alpha)\n",
    "print(observations)"
   ]
  },
  {
   "cell_type": "markdown",
   "id": "08e78dd4-d342-4538-b843-82712eb54281",
   "metadata": {},
   "source": [
    "за ефекту 0,82 нам було б достатньо вибірки у 25 осіб або загальної групи для дослідження 25*2 = 50 осіб"
   ]
  }
 ],
 "metadata": {
  "kernelspec": {
   "display_name": "anaconda-2024.02-py310",
   "language": "python",
   "name": "conda-env-anaconda-2024.02-py310-py"
  },
  "language_info": {
   "codemirror_mode": {
    "name": "ipython",
    "version": 3
   },
   "file_extension": ".py",
   "mimetype": "text/x-python",
   "name": "python",
   "nbconvert_exporter": "python",
   "pygments_lexer": "ipython3",
   "version": "3.10.14"
  }
 },
 "nbformat": 4,
 "nbformat_minor": 5
}
